{
 "cells": [
  {
   "cell_type": "markdown",
   "metadata": {},
   "source": [
    "# Assignment 3 - Building a Custom Visualization\n",
    "\n",
    "---\n",
    "\n",
    "In this assignment you must choose one of the options presented below and submit a visual as well as your source code for peer grading. The details of how you solve the assignment are up to you, although your assignment must use matplotlib so that your peers can evaluate your work. The options differ in challenge level, but there are no grades associated with the challenge level you chose. However, your peers will be asked to ensure you at least met a minimum quality for a given technique in order to pass. Implement the technique fully (or exceed it!) and you should be able to earn full grades for the assignment.\n",
    "\n",
    "\n",
    "&nbsp;&nbsp;&nbsp;&nbsp;&nbsp;&nbsp;Ferreira, N., Fisher, D., & Konig, A. C. (2014, April). [Sample-oriented task-driven visualizations: allowing users to make better, more confident decisions.](https://www.microsoft.com/en-us/research/wp-content/uploads/2016/02/Ferreira_Fisher_Sample_Oriented_Tasks.pdf) \n",
    "&nbsp;&nbsp;&nbsp;&nbsp;&nbsp;&nbsp;In Proceedings of the SIGCHI Conference on Human Factors in Computing Systems (pp. 571-580). ACM. ([video](https://www.youtube.com/watch?v=BI7GAs-va-Q))\n",
    "\n",
    "\n",
    "In this [paper](https://www.microsoft.com/en-us/research/wp-content/uploads/2016/02/Ferreira_Fisher_Sample_Oriented_Tasks.pdf) the authors describe the challenges users face when trying to make judgements about probabilistic data generated through samples. As an example, they look at a bar chart of four years of data (replicated below in Figure 1). Each year has a y-axis value, which is derived from a sample of a larger dataset. For instance, the first value might be the number votes in a given district or riding for 1992, with the average being around 33,000. On top of this is plotted the 95% confidence interval for the mean (see the boxplot lectures for more information, and the yerr parameter of barcharts).\n",
    "\n",
    "<br>\n",
    "<img src=\"readonly/Assignment3Fig1.png\" alt=\"Figure 1\" style=\"width: 400px;\"/>\n",
    "<h4 style=\"text-align: center;\" markdown=\"1\">  &nbsp;&nbsp;&nbsp;&nbsp;&nbsp;&nbsp;&nbsp;&nbsp;Figure 1 from (Ferreira et al, 2014).</h4>\n",
    "\n",
    "<br>\n",
    "\n",
    "A challenge that users face is that, for a given y-axis value (e.g. 42,000), it is difficult to know which x-axis values are most likely to be representative, because the confidence levels overlap and their distributions are different (the lengths of the confidence interval bars are unequal). One of the solutions the authors propose for this problem (Figure 2c) is to allow users to indicate the y-axis value of interest (e.g. 42,000) and then draw a horizontal line and color bars based on this value. So bars might be colored red if they are definitely above this value (given the confidence interval), blue if they are definitely below this value, or white if they contain this value.\n",
    "\n",
    "\n",
    "<br>\n",
    "<img src=\"readonly/Assignment3Fig2c.png\" alt=\"Figure 1\" style=\"width: 400px;\"/>\n",
    "<h4 style=\"text-align: center;\" markdown=\"1\">  Figure 2c from (Ferreira et al. 2014). Note that the colorbar legend at the bottom as well as the arrows are not required in the assignment descriptions below.</h4>\n",
    "\n",
    "<br>\n",
    "<br>\n",
    "\n",
    "**Easiest option:** Implement the bar coloring as described above - a color scale with only three colors, (e.g. blue, white, and red). Assume the user provides the y axis value of interest as a parameter or variable.\n",
    "\n",
    "\n",
    "**Harder option:** Implement the bar coloring as described in the paper, where the color of the bar is actually based on the amount of data covered (e.g. a gradient ranging from dark blue for the distribution being certainly below this y-axis, to white if the value is certainly contained, to dark red if the value is certainly not contained as the distribution is above the axis).\n",
    "\n",
    "**Even Harder option:** Add interactivity to the above, which allows the user to click on the y axis to set the value of interest. The bar colors should change with respect to what value the user has selected.\n",
    "\n",
    "**Hardest option:** Allow the user to interactively set a range of y values they are interested in, and recolor based on this (e.g. a y-axis band, see the paper for more details).\n",
    "\n",
    "---\n",
    "\n",
    "*Note: The data given for this assignment is not the same as the data used in the article and as a result the visualizations may look a little different.*"
   ]
  },
  {
   "cell_type": "code",
   "execution_count": 41,
   "metadata": {
    "collapsed": false
   },
   "outputs": [
    {
     "data": {
      "text/html": [
       "<div>\n",
       "<table border=\"1\" class=\"dataframe\">\n",
       "  <thead>\n",
       "    <tr style=\"text-align: right;\">\n",
       "      <th></th>\n",
       "      <th>1992</th>\n",
       "      <th>1993</th>\n",
       "      <th>1994</th>\n",
       "      <th>1995</th>\n",
       "    </tr>\n",
       "  </thead>\n",
       "  <tbody>\n",
       "    <tr>\n",
       "      <th>count</th>\n",
       "      <td>3650.000000</td>\n",
       "      <td>3650.000000</td>\n",
       "      <td>3650.000000</td>\n",
       "      <td>3650.000000</td>\n",
       "    </tr>\n",
       "    <tr>\n",
       "      <th>mean</th>\n",
       "      <td>33312.107476</td>\n",
       "      <td>41861.859541</td>\n",
       "      <td>39493.304941</td>\n",
       "      <td>47743.550969</td>\n",
       "    </tr>\n",
       "    <tr>\n",
       "      <th>std</th>\n",
       "      <td>200630.901553</td>\n",
       "      <td>98398.356203</td>\n",
       "      <td>140369.925240</td>\n",
       "      <td>69781.185469</td>\n",
       "    </tr>\n",
       "    <tr>\n",
       "      <th>min</th>\n",
       "      <td>-717071.175466</td>\n",
       "      <td>-321586.023683</td>\n",
       "      <td>-450827.613097</td>\n",
       "      <td>-189865.963265</td>\n",
       "    </tr>\n",
       "    <tr>\n",
       "      <th>25%</th>\n",
       "      <td>-102740.398364</td>\n",
       "      <td>-26628.302213</td>\n",
       "      <td>-57436.397393</td>\n",
       "      <td>1774.555612</td>\n",
       "    </tr>\n",
       "    <tr>\n",
       "      <th>50%</th>\n",
       "      <td>29674.931050</td>\n",
       "      <td>43001.976658</td>\n",
       "      <td>41396.781369</td>\n",
       "      <td>49404.322978</td>\n",
       "    </tr>\n",
       "    <tr>\n",
       "      <th>75%</th>\n",
       "      <td>167441.838695</td>\n",
       "      <td>108296.577923</td>\n",
       "      <td>137261.713785</td>\n",
       "      <td>94164.333867</td>\n",
       "    </tr>\n",
       "    <tr>\n",
       "      <th>max</th>\n",
       "      <td>817505.608159</td>\n",
       "      <td>395586.505068</td>\n",
       "      <td>490091.665037</td>\n",
       "      <td>320826.888044</td>\n",
       "    </tr>\n",
       "  </tbody>\n",
       "</table>\n",
       "</div>"
      ],
      "text/plain": [
       "                1992           1993           1994           1995\n",
       "count    3650.000000    3650.000000    3650.000000    3650.000000\n",
       "mean    33312.107476   41861.859541   39493.304941   47743.550969\n",
       "std    200630.901553   98398.356203  140369.925240   69781.185469\n",
       "min   -717071.175466 -321586.023683 -450827.613097 -189865.963265\n",
       "25%   -102740.398364  -26628.302213  -57436.397393    1774.555612\n",
       "50%     29674.931050   43001.976658   41396.781369   49404.322978\n",
       "75%    167441.838695  108296.577923  137261.713785   94164.333867\n",
       "max    817505.608159  395586.505068  490091.665037  320826.888044"
      ]
     },
     "execution_count": 41,
     "metadata": {},
     "output_type": "execute_result"
    }
   ],
   "source": [
    "# Use the following data for this assignment:\n",
    "\n",
    "import pandas as pd\n",
    "import numpy as np\n",
    "\n",
    "np.random.seed(12345) \n",
    "\n",
    "df = pd.DataFrame([np.random.normal(32000,200000,3650), \n",
    "                   np.random.normal(43000,100000,3650), \n",
    "                   np.random.normal(43500,140000,3650), \n",
    "                   np.random.normal(48000,70000,3650)], \n",
    "                  index=[1992,1993,1994,1995])\n",
    "# get the transpose of dataframe to check all the values descriptions we need\n",
    "df.T.describe()"
   ]
  },
  {
   "cell_type": "code",
   "execution_count": 42,
   "metadata": {
    "collapsed": false
   },
   "outputs": [
    {
     "name": "stdout",
     "output_type": "stream",
     "text": [
      "[13017.795939940643, 6384.5086273780616, 9107.8045741764799, 4527.7034886207548]\n",
      "Put your y-value of interest in(must be a valid float number!): 40973\n"
     ]
    }
   ],
   "source": [
    "mean = list(df.mean(axis=1))\n",
    "std = list(df.std(axis=1))\n",
    "# get the y-error, z-values for us\n",
    "yerr = list((1.96*(x))/(np.sqrt(3650)) for x in std)\n",
    "min_y = list(mean[i]-yerr[i] for i in range(len(mean)))\n",
    "max_y = list(mean[i]+yerr[i] for i in range(len(mean)))\n",
    "range_y = list(max_y[i]-min_y[i] for i in range(len(mean)))\n",
    "print(range_y)\n",
    "# we need the range of confidence interval to set down the colors\n",
    "# i have not set the test mechanic for y input, try to put a valid float number\n",
    "y = float(input(\"Put your y-value of interest in(must be a valid float number!): \"))"
   ]
  },
  {
   "cell_type": "code",
   "execution_count": 45,
   "metadata": {
    "collapsed": false
   },
   "outputs": [
    {
     "name": "stdout",
     "output_type": "stream",
     "text": [
      "[1.0884938248994058, 0.36077870781444499, 0.66246451563053088, -0.99536094540712772]\n",
      "['navy', 'peachpuff', 'lightskyblue', 'darkred']\n"
     ]
    }
   ],
   "source": [
    "percent = list((y-min_y[i])/range_y[i] for i in range(len(mean)))\n",
    "print(percent)\n",
    "color = []\n",
    "for x in percent:\n",
    "    if x <= 0.09:\n",
    "        color.append(\"darkred\")\n",
    "    if (0.09 < x) & (x <= 0.18):\n",
    "        color.append(\"red\")\n",
    "    if (0.18 < x) & (x <= 0.27):\n",
    "        color.append(\"chocolate\")\n",
    "    if (0.27 < x) & (x <= 0.36):\n",
    "        color.append(\"sandybrown\")\n",
    "    if (0.36 < x) & (x <= 0.45):\n",
    "        color.append(\"peachpuff\")\n",
    "    if (0.45 < x) & (x <= 0.55):\n",
    "        color.append(\"white\")\n",
    "    if (0.55 < x) & (x <= 0.64):\n",
    "        color.append(\"lightblue\")\n",
    "    if (0.64 < x) & (x <= 0.73):\n",
    "        color.append(\"lightskyblue\")\n",
    "    if (0.73 < x) & (x <= 0.82):\n",
    "        color.append(\"cornflowerblue\")   \n",
    "    if (0.82 < x) & (x <= 0.91):\n",
    "        color.append(\"royalblue\")\n",
    "    if x > 0.91:\n",
    "        color.append(\"navy\")\n",
    "# we store 4 colors we need into a list for barplot\n",
    "print(color)"
   ]
  },
  {
   "cell_type": "code",
   "execution_count": 55,
   "metadata": {
    "collapsed": false
   },
   "outputs": [
    {
     "data": {
      "image/png": "[encoded data removed]",
      "text/plain": [
       "<matplotlib.figure.Figure at 0x7f1cb031b128>"
      ]
     },
     "metadata": {},
     "output_type": "display_data"
    },
    {
     "data": {
      "image/png": "[encoded data removed]",
      "text/plain": [
       "<matplotlib.figure.Figure at 0x7f1cb0505828>"
      ]
     },
     "metadata": {},
     "output_type": "display_data"
    }
   ],
   "source": [
    "import matplotlib.pyplot as plt\n",
    "import matplotlib as mpl\n",
    "%matplotlib inline\n",
    "\n",
    "x = (1992,1993,1994,1995)\n",
    "y_pos = range(len(x))\n",
    "\n",
    "plt.figure(figsize=(9, 9))\n",
    "plt.bar(y_pos , height=mean, yerr=yerr, width=1, edgecolor='black', error_kw={'capsize': 20, 'elinewidth': 2}, color=color)\n",
    "plt.axhline(y=y, color='grey')\n",
    "plt.annotate('y = {}'.format(y), [0,y])\n",
    "plt.xticks(y_pos, x)\n",
    "plt.tick_params(bottom='off')\n",
    "\n",
    "\n",
    "fig, ax = plt.subplots(figsize=(7, 1))\n",
    "fig.subplots_adjust(bottom=0.75)\n",
    "\n",
    "cmap = mpl.colors.ListedColormap(['navy', 'royalblue', 'cornflowerblue', 'lightskyblue', 'lightblue', 'white',\n",
    "                                  'peachpuff', 'sandybrown', 'chocolate', 'red', 'darkred'])\n",
    "bounds = [0.00, 0.09, 0.18, 0.27, 0.36, 0.45, 0.55, 0.64, 0.73, 0.82, 0.91, 1.00]\n",
    "norm = mpl.colors.BoundaryNorm(bounds, cmap.N)\n",
    "cb3 = mpl.colorbar.ColorbarBase(ax, cmap=cmap,\n",
    "                                norm=norm,\n",
    "                                boundaries=bounds,\n",
    "                                ticks=bounds,\n",
    "                                spacing='uniform',\n",
    "                                orientation='horizontal')\n",
    "\n"
   ]
  },
  {
   "cell_type": "code",
   "execution_count": null,
   "metadata": {
    "collapsed": true
   },
   "outputs": [],
   "source": []
  },
  {
   "cell_type": "code",
   "execution_count": null,
   "metadata": {
    "collapsed": true
   },
   "outputs": [],
   "source": []
  },
  {
   "cell_type": "code",
   "execution_count": null,
   "metadata": {
    "collapsed": true
   },
   "outputs": [],
   "source": []
  }
 ],
 "metadata": {
  "kernelspec": {
   "display_name": "Python 3",
   "language": "python",
   "name": "python3"
  },
  "language_info": {
   "codemirror_mode": {
    "name": "ipython",
    "version": 3
   },
   "file_extension": ".py",
   "mimetype": "text/x-python",
   "name": "python",
   "nbconvert_exporter": "python",
   "pygments_lexer": "ipython3",
   "version": "3.6.2"
  }
 },
 "nbformat": 4,
 "nbformat_minor": 2
}
